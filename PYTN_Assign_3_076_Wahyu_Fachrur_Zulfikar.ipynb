{
 "cells": [
  {
   "cell_type": "markdown",
   "metadata": {},
   "source": [
    "<b>NEXTDEV</b> Digitalent Academy : Python Assignment 1 - Data Visualization<br>\n",
    "Lecture : <strong> Afif A.I. </strong> <br>\n",
    "code by : <strong>Wahyu Fachrur Zulfikar</strong>"
   ]
  },
  {
   "cell_type": "code",
   "execution_count": 121,
   "metadata": {},
   "outputs": [],
   "source": [
    "import numpy as numpy\n",
    "import pandas as pandas\n",
    "import matplotlib.pyplot as plt\n",
    "from sklearn import preprocessing\n",
    "from sklearn.decomposition import PCA\n",
    "from sklearn.model_selection import train_test_split"
   ]
  },
  {
   "cell_type": "markdown",
   "metadata": {},
   "source": [
    "## <b> Persiapan dataset </b>"
   ]
  },
  {
   "cell_type": "markdown",
   "metadata": {},
   "source": [
    "sebelum memulai pembuatan model machine learning, kita harus menyiapkan dataset yang sudah bersih dan siap dimasukkan pada berbagai model yang akan kita buat. hal ini juga biasa disebut dengan <u><b>preprocessing data & data cleansing</b></u> <br>\n",
    "tahapan yang dilakukan adalah:\n",
    "<ul>\n",
    "<li>Load dataset</li>\n",
    "<li>bersihkan dataset dari data duplikasi data</li>\n",
    "<li>ubah tipe kolom object menjadi category</li>\n",
    "<li>ubah nilai dari category menjadi numerik <i>(label encoder)</i></li>\n",
    "<li>reduksi dimensi pada kolom dengan menggunakan metode PCA</li>\n",
    "<li>bagi dataset menjadi X_train, X_test, y_train, y_test</li>\n",
    "</ul>\n",
    "hasil yang akan diperoleh dari persiapan ini adalah data yang siap untuk dimasukkan pada model machine learning kita"
   ]
  },
  {
   "cell_type": "code",
   "execution_count": 122,
   "metadata": {},
   "outputs": [
    {
     "data": {
      "text/plain": [
       "(41188, 21)"
      ]
     },
     "execution_count": 122,
     "metadata": {},
     "output_type": "execute_result"
    }
   ],
   "source": [
    "df_bank = pandas.read_csv(\"bank-additional/bank-additional-full.csv\", sep=\";\")\n",
    "df_bank.shape"
   ]
  },
  {
   "cell_type": "code",
   "execution_count": 123,
   "metadata": {},
   "outputs": [
    {
     "data": {
      "text/plain": [
       "(41176, 21)"
      ]
     },
     "execution_count": 123,
     "metadata": {},
     "output_type": "execute_result"
    }
   ],
   "source": [
    "df_bank.drop_duplicates(inplace=True)\n",
    "df_bank.reset_index(inplace=True)\n",
    "df_bank.drop(labels=\"index\",axis= 1, inplace=True)\n",
    "df_bank.shape"
   ]
  },
  {
   "cell_type": "code",
   "execution_count": 124,
   "metadata": {},
   "outputs": [
    {
     "name": "stdout",
     "output_type": "stream",
     "text": [
      "<class 'pandas.core.frame.DataFrame'>\n",
      "RangeIndex: 41176 entries, 0 to 41175\n",
      "Data columns (total 21 columns):\n",
      " #   Column          Non-Null Count  Dtype  \n",
      "---  ------          --------------  -----  \n",
      " 0   age             41176 non-null  int64  \n",
      " 1   job             41176 non-null  object \n",
      " 2   marital         41176 non-null  object \n",
      " 3   education       41176 non-null  object \n",
      " 4   default         41176 non-null  object \n",
      " 5   housing         41176 non-null  object \n",
      " 6   loan            41176 non-null  object \n",
      " 7   contact         41176 non-null  object \n",
      " 8   month           41176 non-null  object \n",
      " 9   day_of_week     41176 non-null  object \n",
      " 10  duration        41176 non-null  int64  \n",
      " 11  campaign        41176 non-null  int64  \n",
      " 12  pdays           41176 non-null  int64  \n",
      " 13  previous        41176 non-null  int64  \n",
      " 14  poutcome        41176 non-null  object \n",
      " 15  emp.var.rate    41176 non-null  float64\n",
      " 16  cons.price.idx  41176 non-null  float64\n",
      " 17  cons.conf.idx   41176 non-null  float64\n",
      " 18  euribor3m       41176 non-null  float64\n",
      " 19  nr.employed     41176 non-null  float64\n",
      " 20  y               41176 non-null  object \n",
      "dtypes: float64(5), int64(5), object(11)\n",
      "memory usage: 6.6+ MB\n"
     ]
    }
   ],
   "source": [
    "df_bank.info()"
   ]
  },
  {
   "cell_type": "markdown",
   "metadata": {},
   "source": [
    "dikarenakan hasil dari data diatas terdapat data dengan Dtype \"object\", maka kita akan mengubah tipe data tersebut menjadi tipe category. fungsi dari pengubahan data ini adalah untuk memastikan bahwa data pada kolom \"object\" merupakan data yang sudah ditentukan nilainya yang berupa field \\<select\\>\n",
    "\n",
    "kolom yang akan diubah adalah \n",
    "[\"job\", \"marital\", \"education\", \"default\", \"housing\", \"loan\", \"contact\", \"month\", \"day_of_week\", \"poutcome\", \"y\"]"
   ]
  },
  {
   "cell_type": "code",
   "execution_count": 125,
   "metadata": {},
   "outputs": [],
   "source": [
    "ctg = [\"job\", \"marital\", \"education\", \"default\", \"housing\", \"loan\", \"contact\", \"month\", \"day_of_week\", \"poutcome\", \"y\"]\n",
    "for col in ctg:\n",
    "    df_bank[col] = df_bank[col].astype(\"category\")"
   ]
  },
  {
   "cell_type": "code",
   "execution_count": 126,
   "metadata": {},
   "outputs": [
    {
     "name": "stdout",
     "output_type": "stream",
     "text": [
      "<class 'pandas.core.frame.DataFrame'>\n",
      "RangeIndex: 41176 entries, 0 to 41175\n",
      "Data columns (total 21 columns):\n",
      " #   Column          Non-Null Count  Dtype   \n",
      "---  ------          --------------  -----   \n",
      " 0   age             41176 non-null  int64   \n",
      " 1   job             41176 non-null  category\n",
      " 2   marital         41176 non-null  category\n",
      " 3   education       41176 non-null  category\n",
      " 4   default         41176 non-null  category\n",
      " 5   housing         41176 non-null  category\n",
      " 6   loan            41176 non-null  category\n",
      " 7   contact         41176 non-null  category\n",
      " 8   month           41176 non-null  category\n",
      " 9   day_of_week     41176 non-null  category\n",
      " 10  duration        41176 non-null  int64   \n",
      " 11  campaign        41176 non-null  int64   \n",
      " 12  pdays           41176 non-null  int64   \n",
      " 13  previous        41176 non-null  int64   \n",
      " 14  poutcome        41176 non-null  category\n",
      " 15  emp.var.rate    41176 non-null  float64 \n",
      " 16  cons.price.idx  41176 non-null  float64 \n",
      " 17  cons.conf.idx   41176 non-null  float64 \n",
      " 18  euribor3m       41176 non-null  float64 \n",
      " 19  nr.employed     41176 non-null  float64 \n",
      " 20  y               41176 non-null  category\n",
      "dtypes: category(11), float64(5), int64(5)\n",
      "memory usage: 3.6 MB\n"
     ]
    }
   ],
   "source": [
    "df_bank.info()"
   ]
  },
  {
   "cell_type": "code",
   "execution_count": 127,
   "metadata": {},
   "outputs": [
    {
     "data": {
      "text/html": [
       "<div>\n",
       "<style scoped>\n",
       "    .dataframe tbody tr th:only-of-type {\n",
       "        vertical-align: middle;\n",
       "    }\n",
       "\n",
       "    .dataframe tbody tr th {\n",
       "        vertical-align: top;\n",
       "    }\n",
       "\n",
       "    .dataframe thead th {\n",
       "        text-align: right;\n",
       "    }\n",
       "</style>\n",
       "<table border=\"1\" class=\"dataframe\">\n",
       "  <thead>\n",
       "    <tr style=\"text-align: right;\">\n",
       "      <th></th>\n",
       "      <th>age</th>\n",
       "      <th>job</th>\n",
       "      <th>marital</th>\n",
       "      <th>education</th>\n",
       "      <th>default</th>\n",
       "      <th>housing</th>\n",
       "      <th>loan</th>\n",
       "      <th>contact</th>\n",
       "      <th>month</th>\n",
       "      <th>day_of_week</th>\n",
       "      <th>...</th>\n",
       "      <th>campaign</th>\n",
       "      <th>pdays</th>\n",
       "      <th>previous</th>\n",
       "      <th>poutcome</th>\n",
       "      <th>emp.var.rate</th>\n",
       "      <th>cons.price.idx</th>\n",
       "      <th>cons.conf.idx</th>\n",
       "      <th>euribor3m</th>\n",
       "      <th>nr.employed</th>\n",
       "      <th>y</th>\n",
       "    </tr>\n",
       "  </thead>\n",
       "  <tbody>\n",
       "    <tr>\n",
       "      <th>0</th>\n",
       "      <td>56</td>\n",
       "      <td>housemaid</td>\n",
       "      <td>married</td>\n",
       "      <td>basic.4y</td>\n",
       "      <td>no</td>\n",
       "      <td>no</td>\n",
       "      <td>no</td>\n",
       "      <td>telephone</td>\n",
       "      <td>may</td>\n",
       "      <td>mon</td>\n",
       "      <td>...</td>\n",
       "      <td>1</td>\n",
       "      <td>999</td>\n",
       "      <td>0</td>\n",
       "      <td>nonexistent</td>\n",
       "      <td>1.1</td>\n",
       "      <td>93.994</td>\n",
       "      <td>-36.4</td>\n",
       "      <td>4.857</td>\n",
       "      <td>5191.0</td>\n",
       "      <td>no</td>\n",
       "    </tr>\n",
       "    <tr>\n",
       "      <th>1</th>\n",
       "      <td>57</td>\n",
       "      <td>services</td>\n",
       "      <td>married</td>\n",
       "      <td>high.school</td>\n",
       "      <td>unknown</td>\n",
       "      <td>no</td>\n",
       "      <td>no</td>\n",
       "      <td>telephone</td>\n",
       "      <td>may</td>\n",
       "      <td>mon</td>\n",
       "      <td>...</td>\n",
       "      <td>1</td>\n",
       "      <td>999</td>\n",
       "      <td>0</td>\n",
       "      <td>nonexistent</td>\n",
       "      <td>1.1</td>\n",
       "      <td>93.994</td>\n",
       "      <td>-36.4</td>\n",
       "      <td>4.857</td>\n",
       "      <td>5191.0</td>\n",
       "      <td>no</td>\n",
       "    </tr>\n",
       "    <tr>\n",
       "      <th>2</th>\n",
       "      <td>37</td>\n",
       "      <td>services</td>\n",
       "      <td>married</td>\n",
       "      <td>high.school</td>\n",
       "      <td>no</td>\n",
       "      <td>yes</td>\n",
       "      <td>no</td>\n",
       "      <td>telephone</td>\n",
       "      <td>may</td>\n",
       "      <td>mon</td>\n",
       "      <td>...</td>\n",
       "      <td>1</td>\n",
       "      <td>999</td>\n",
       "      <td>0</td>\n",
       "      <td>nonexistent</td>\n",
       "      <td>1.1</td>\n",
       "      <td>93.994</td>\n",
       "      <td>-36.4</td>\n",
       "      <td>4.857</td>\n",
       "      <td>5191.0</td>\n",
       "      <td>no</td>\n",
       "    </tr>\n",
       "    <tr>\n",
       "      <th>3</th>\n",
       "      <td>40</td>\n",
       "      <td>admin.</td>\n",
       "      <td>married</td>\n",
       "      <td>basic.6y</td>\n",
       "      <td>no</td>\n",
       "      <td>no</td>\n",
       "      <td>no</td>\n",
       "      <td>telephone</td>\n",
       "      <td>may</td>\n",
       "      <td>mon</td>\n",
       "      <td>...</td>\n",
       "      <td>1</td>\n",
       "      <td>999</td>\n",
       "      <td>0</td>\n",
       "      <td>nonexistent</td>\n",
       "      <td>1.1</td>\n",
       "      <td>93.994</td>\n",
       "      <td>-36.4</td>\n",
       "      <td>4.857</td>\n",
       "      <td>5191.0</td>\n",
       "      <td>no</td>\n",
       "    </tr>\n",
       "    <tr>\n",
       "      <th>4</th>\n",
       "      <td>56</td>\n",
       "      <td>services</td>\n",
       "      <td>married</td>\n",
       "      <td>high.school</td>\n",
       "      <td>no</td>\n",
       "      <td>no</td>\n",
       "      <td>yes</td>\n",
       "      <td>telephone</td>\n",
       "      <td>may</td>\n",
       "      <td>mon</td>\n",
       "      <td>...</td>\n",
       "      <td>1</td>\n",
       "      <td>999</td>\n",
       "      <td>0</td>\n",
       "      <td>nonexistent</td>\n",
       "      <td>1.1</td>\n",
       "      <td>93.994</td>\n",
       "      <td>-36.4</td>\n",
       "      <td>4.857</td>\n",
       "      <td>5191.0</td>\n",
       "      <td>no</td>\n",
       "    </tr>\n",
       "  </tbody>\n",
       "</table>\n",
       "<p>5 rows × 21 columns</p>\n",
       "</div>"
      ],
      "text/plain": [
       "   age        job  marital    education  default housing loan    contact  \\\n",
       "0   56  housemaid  married     basic.4y       no      no   no  telephone   \n",
       "1   57   services  married  high.school  unknown      no   no  telephone   \n",
       "2   37   services  married  high.school       no     yes   no  telephone   \n",
       "3   40     admin.  married     basic.6y       no      no   no  telephone   \n",
       "4   56   services  married  high.school       no      no  yes  telephone   \n",
       "\n",
       "  month day_of_week  ...  campaign  pdays  previous     poutcome emp.var.rate  \\\n",
       "0   may         mon  ...         1    999         0  nonexistent          1.1   \n",
       "1   may         mon  ...         1    999         0  nonexistent          1.1   \n",
       "2   may         mon  ...         1    999         0  nonexistent          1.1   \n",
       "3   may         mon  ...         1    999         0  nonexistent          1.1   \n",
       "4   may         mon  ...         1    999         0  nonexistent          1.1   \n",
       "\n",
       "   cons.price.idx  cons.conf.idx  euribor3m  nr.employed   y  \n",
       "0          93.994          -36.4      4.857       5191.0  no  \n",
       "1          93.994          -36.4      4.857       5191.0  no  \n",
       "2          93.994          -36.4      4.857       5191.0  no  \n",
       "3          93.994          -36.4      4.857       5191.0  no  \n",
       "4          93.994          -36.4      4.857       5191.0  no  \n",
       "\n",
       "[5 rows x 21 columns]"
      ]
     },
     "execution_count": 127,
     "metadata": {},
     "output_type": "execute_result"
    }
   ],
   "source": [
    "df_bank.head()"
   ]
  },
  {
   "cell_type": "markdown",
   "metadata": {},
   "source": [
    "Setelah Dtype \"object\" telah diubah manjadi Dtype \"category\", maka langkah selanjutnya adalah mengubah nilai dari dalam data menjadi bentuk angka untuk memudahkan permodelan dalam machine learning"
   ]
  },
  {
   "cell_type": "code",
   "execution_count": 128,
   "metadata": {},
   "outputs": [],
   "source": [
    "#label encoder\n",
    "# [\"job\", \"marital\", \"education\", \"default\", \"housing\", \"loan\", \"contact\", \"month\", \"day_of_week\", \"poutcome\", \"y\"]\n",
    "le = preprocessing.LabelEncoder()\n",
    "\n",
    "#ubah data label menjadi numbers\n",
    "job_encoded = le.fit_transform(df_bank[\"job\"])\n",
    "marital_encoded = le.fit_transform(df_bank[\"marital\"])\n",
    "education_encoded = le.fit_transform(df_bank[\"education\"])\n",
    "default_encoded = le.fit_transform(df_bank[\"default\"])\n",
    "housing_encoded = le.fit_transform(df_bank[\"housing\"])\n",
    "loan_encoded = le.fit_transform(df_bank[\"loan\"])\n",
    "contact_encoded = le.fit_transform(df_bank[\"contact\"])\n",
    "month_encoded = le.fit_transform(df_bank[\"month\"])\n",
    "day_of_week_encoded = le.fit_transform(df_bank[\"day_of_week\"])\n",
    "poutcome_encoded = le.fit_transform(df_bank[\"poutcome\"])\n",
    "y_encoded = le.fit_transform(df_bank[\"y\"])\n"
   ]
  },
  {
   "cell_type": "code",
   "execution_count": 129,
   "metadata": {},
   "outputs": [],
   "source": [
    "# siapkan variabel untuk data category\n",
    "job_category =  df_bank[\"job\"].dtype.categories\n",
    "marital_category = df_bank[\"marital\"].dtype.categories\n",
    "education_category = df_bank[\"education\"].dtype.categories\n",
    "default_category = df_bank[\"default\"].dtype.categories\n",
    "housing_category = df_bank[\"housing\"].dtype.categories\n",
    "loan_category = df_bank[\"loan\"].dtype.categories\n",
    "contact_category = df_bank[\"contact\"].dtype.categories\n",
    "month_category = df_bank[\"month\"].dtype.categories\n",
    "day_of_week_category = df_bank[\"day_of_week\"].dtype.categories\n",
    "poutcome_category = df_bank[\"poutcome\"].dtype.categories\n",
    "y_category = df_bank[\"y\"].dtype.categories"
   ]
  },
  {
   "cell_type": "code",
   "execution_count": 130,
   "metadata": {},
   "outputs": [],
   "source": [
    "# ubah kolom data label menjadi kolom data angka\n",
    "df_bank[\"job\"] = job_encoded\n",
    "df_bank[\"marital\"] = marital_encoded\n",
    "df_bank[\"education\"] = education_encoded\n",
    "df_bank[\"default\"] = default_encoded\n",
    "df_bank[\"housing\"] = housing_encoded\n",
    "df_bank[\"loan\"] = loan_encoded\n",
    "df_bank[\"contact\"] = contact_encoded\n",
    "df_bank[\"month\"] = month_encoded\n",
    "df_bank[\"day_of_week\"] = day_of_week_encoded\n",
    "df_bank[\"poutcome\"] = poutcome_encoded\n",
    "df_bank[\"y\"] = y_encoded"
   ]
  },
  {
   "cell_type": "code",
   "execution_count": 131,
   "metadata": {},
   "outputs": [],
   "source": [
    "feature_name = df_bank.columns"
   ]
  },
  {
   "cell_type": "code",
   "execution_count": 132,
   "metadata": {},
   "outputs": [],
   "source": [
    "y_output = df_bank[\"y\"]\n",
    "df_bank.drop(labels=\"y\", axis=1, inplace=True)"
   ]
  },
  {
   "cell_type": "markdown",
   "metadata": {},
   "source": [
    "#### mereduksi dimensi pada kolom menjadi 2 komponen menggunakan PCA"
   ]
  },
  {
   "cell_type": "code",
   "execution_count": 133,
   "metadata": {},
   "outputs": [
    {
     "data": {
      "text/plain": [
       "<AxesSubplot:>"
      ]
     },
     "execution_count": 133,
     "metadata": {},
     "output_type": "execute_result"
    },
    {
     "data": {
      "image/png": "[encoded data removed]",
      "text/plain": [
       "<Figure size 432x288 with 1 Axes>"
      ]
     },
     "metadata": {
      "needs_background": "light"
     },
     "output_type": "display_data"
    }
   ],
   "source": [
    "pca = PCA(n_components=2)\n",
    "\n",
    "principalComponent = pca.fit_transform(df_bank)\n",
    "principalDf = pandas.DataFrame(data=principalComponent, columns=[\"principal_c1\", \"principal_c2\"])\n",
    "principalDf.plot()"
   ]
  },
  {
   "cell_type": "code",
   "execution_count": 134,
   "metadata": {},
   "outputs": [],
   "source": [
    "# (trial and error salah satu metode)\n",
    "\n",
    "# Training dengan menggunakan principal data dari df_bank\n",
    "# X_train, X_test, y_train, y_test = train_test_split(principalDf, y_output, test_size=0.3, random_state=3)\n",
    "\n",
    "# training dengan menggunakan data original df_bank \n",
    "X_train, X_test, y_train, y_test = train_test_split(df_bank, y_output, test_size=0.3, random_state=3)"
   ]
  },
  {
   "cell_type": "markdown",
   "metadata": {},
   "source": [
    "## <b>Persiapan model machine learning</b>"
   ]
  },
  {
   "cell_type": "markdown",
   "metadata": {},
   "source": [
    "Dalam case kali ini, kita akan mencoba berbagai model machine learning antara lain:\n",
    "<ul>\n",
    "<li>Logistic Regression</li>\n",
    "<li>K-Nearest Neighbour</li>\n",
    "<li>Support Vector Machine</li>\n",
    "<li>Decision Tree</li>\n",
    "<li>Random Forest</li>\n",
    "<li>Naive Bayes</li>\n",
    "<li>Confusion Matrix</li>\n",
    "</ul>"
   ]
  },
  {
   "cell_type": "markdown",
   "metadata": {},
   "source": [
    "#### <u><b>Logistic Regression</b></u>"
   ]
  },
  {
   "cell_type": "code",
   "execution_count": 135,
   "metadata": {},
   "outputs": [],
   "source": [
    "from sklearn.metrics import classification_report, confusion_matrix\n",
    "from sklearn.preprocessing import StandardScaler\n",
    "from sklearn import metrics"
   ]
  },
  {
   "cell_type": "code",
   "execution_count": 136,
   "metadata": {},
   "outputs": [],
   "source": [
    "# scaler = StandardScaler()\n",
    "# X_train = scaler.fit_transform(X_train)\n",
    "# X_test = scaler.transform(X_test)"
   ]
  },
  {
   "cell_type": "code",
   "execution_count": 137,
   "metadata": {},
   "outputs": [],
   "source": [
    "from sklearn.linear_model import LogisticRegression"
   ]
  },
  {
   "cell_type": "code",
   "execution_count": 138,
   "metadata": {},
   "outputs": [
    {
     "name": "stdout",
     "output_type": "stream",
     "text": [
      "              precision    recall  f1-score   support\n",
      "\n",
      "           0       0.93      0.97      0.95     10965\n",
      "           1       0.66      0.41      0.50      1388\n",
      "\n",
      "    accuracy                           0.91     12353\n",
      "   macro avg       0.79      0.69      0.73     12353\n",
      "weighted avg       0.90      0.91      0.90     12353\n",
      "\n",
      "Accuracy: 0.9093337650773091\n"
     ]
    }
   ],
   "source": [
    "model = LogisticRegression(solver='liblinear', C=0.05, multi_class='ovr', random_state=1)\n",
    "model.fit(X_train, y_train)\n",
    "logreg_pred = model.predict(X_test)\n",
    "\n",
    "print(classification_report(y_test, logreg_pred))\n",
    "print(\"Accuracy:\",metrics.accuracy_score(y_test, logreg_pred))"
   ]
  },
  {
   "cell_type": "markdown",
   "metadata": {},
   "source": [
    "#### <u><b>K-Nearest Neighbour</b></u>"
   ]
  },
  {
   "cell_type": "code",
   "execution_count": 139,
   "metadata": {},
   "outputs": [],
   "source": [
    "from sklearn.neighbors import KNeighborsClassifier"
   ]
  },
  {
   "cell_type": "code",
   "execution_count": 140,
   "metadata": {},
   "outputs": [
    {
     "name": "stdout",
     "output_type": "stream",
     "text": [
      "              precision    recall  f1-score   support\n",
      "\n",
      "           0       0.94      0.96      0.95     10965\n",
      "           1       0.58      0.48      0.53      1388\n",
      "\n",
      "    accuracy                           0.90     12353\n",
      "   macro avg       0.76      0.72      0.74     12353\n",
      "weighted avg       0.90      0.90      0.90     12353\n",
      "\n",
      "Accuracy: 0.9032623654173075\n"
     ]
    }
   ],
   "source": [
    "knn_model = KNeighborsClassifier(n_neighbors=5, weights='uniform', algorithm='auto', leaf_size=30, p=2, metric='minkowski', metric_params=None)\n",
    "\n",
    "# Train the model using the training sets\n",
    "knn_model.fit(X_train, y_train)\n",
    "\n",
    "#Predict Output\n",
    "knn_pred = knn_model.predict(X_test)\n",
    "\n",
    "print(classification_report(y_test, knn_pred))\n",
    "print(\"Accuracy:\",metrics.accuracy_score(y_test, knn_pred))"
   ]
  },
  {
   "cell_type": "markdown",
   "metadata": {},
   "source": [
    "#### <u><b>SVM (Support Vector Machine)</b></u>"
   ]
  },
  {
   "cell_type": "code",
   "execution_count": 141,
   "metadata": {},
   "outputs": [],
   "source": [
    "from sklearn import svm"
   ]
  },
  {
   "cell_type": "code",
   "execution_count": 142,
   "metadata": {},
   "outputs": [
    {
     "name": "stdout",
     "output_type": "stream",
     "text": [
      "              precision    recall  f1-score   support\n",
      "\n",
      "           0       0.94      0.95      0.94     10965\n",
      "           1       0.53      0.49      0.51      1388\n",
      "\n",
      "    accuracy                           0.89     12353\n",
      "   macro avg       0.73      0.72      0.73     12353\n",
      "weighted avg       0.89      0.89      0.89     12353\n",
      "\n",
      "Accuracy: 0.8944385979114385\n"
     ]
    }
   ],
   "source": [
    "clf = svm.SVC(kernel='linear') # Linear Kernel\n",
    "\n",
    "clf.fit(X_train, y_train) \n",
    "\n",
    "#Predict the response for test dataset\n",
    "svm_pred = clf.predict(X_test)\n",
    "\n",
    "print(classification_report(y_test, svm_pred))\n",
    "print(\"Accuracy:\",metrics.accuracy_score(y_test, svm_pred))\n"
   ]
  },
  {
   "cell_type": "markdown",
   "metadata": {},
   "source": [
    "#### <u><b>Decision Tree Classifier</b></u>"
   ]
  },
  {
   "cell_type": "code",
   "execution_count": 143,
   "metadata": {},
   "outputs": [
    {
     "name": "stdout",
     "output_type": "stream",
     "text": [
      "              precision    recall  f1-score   support\n",
      "\n",
      "           0       0.94      0.94      0.94     10965\n",
      "           1       0.52      0.52      0.52      1388\n",
      "\n",
      "    accuracy                           0.89     12353\n",
      "   macro avg       0.73      0.73      0.73     12353\n",
      "weighted avg       0.89      0.89      0.89     12353\n",
      "\n",
      "Accuracy: 0.8912814700882377\n"
     ]
    }
   ],
   "source": [
    "from sklearn.tree import DecisionTreeClassifier # Import Decision Tree Classifier\n",
    "\n",
    "# Create Decision Tree classifer object\n",
    "clf = DecisionTreeClassifier()\n",
    "\n",
    "# Train Decision Tree Classifer\n",
    "clf = clf.fit(X_train,y_train)\n",
    "\n",
    "#Predict the response for test dataset\n",
    "dtc_pred = clf.predict(X_test)\n",
    "\n",
    "print(classification_report(y_test, dtc_pred))\n",
    "print(\"Accuracy:\",metrics.accuracy_score(y_test, dtc_pred))"
   ]
  },
  {
   "cell_type": "markdown",
   "metadata": {},
   "source": [
    "#### <u><b>Random Forest</b></u>"
   ]
  },
  {
   "cell_type": "code",
   "execution_count": 144,
   "metadata": {},
   "outputs": [
    {
     "name": "stdout",
     "output_type": "stream",
     "text": [
      "              precision    recall  f1-score   support\n",
      "\n",
      "           0       0.94      0.97      0.95     10965\n",
      "           1       0.66      0.51      0.57      1388\n",
      "\n",
      "    accuracy                           0.92     12353\n",
      "   macro avg       0.80      0.74      0.76     12353\n",
      "weighted avg       0.91      0.92      0.91     12353\n",
      "\n",
      "Accuracy: 0.9150004047599773\n"
     ]
    }
   ],
   "source": [
    "from sklearn.ensemble import RandomForestClassifier\n",
    "\n",
    "clf = RandomForestClassifier(n_estimators=100)\n",
    " \n",
    "#Train the model using the training sets y_pred=clf.predict(X_test)\n",
    "clf.fit(X_train,y_train) \n",
    "\n",
    "randfor_pred = clf.predict(X_test)\n",
    "\n",
    "print(classification_report(y_test, randfor_pred))\n",
    "print(\"Accuracy:\",metrics.accuracy_score(y_test, randfor_pred))"
   ]
  },
  {
   "cell_type": "markdown",
   "metadata": {},
   "source": [
    "#### <u><b>Naive Bayes</b></u>"
   ]
  },
  {
   "cell_type": "code",
   "execution_count": 145,
   "metadata": {},
   "outputs": [
    {
     "name": "stdout",
     "output_type": "stream",
     "text": [
      "              precision    recall  f1-score   support\n",
      "\n",
      "           0       0.94      0.88      0.91     10965\n",
      "           1       0.38      0.59      0.46      1388\n",
      "\n",
      "    accuracy                           0.85     12353\n",
      "   macro avg       0.66      0.74      0.69     12353\n",
      "weighted avg       0.88      0.85      0.86     12353\n",
      "\n",
      "Accuracy: 0.8463531126042257\n"
     ]
    }
   ],
   "source": [
    "from sklearn.naive_bayes import GaussianNB\n",
    "\n",
    "model = GaussianNB()\n",
    "\n",
    "# Train the model using the training sets\n",
    "model.fit(X_train,y_train)\n",
    "\n",
    "#Predict Output\n",
    "nb_pred = model.predict(X_test)\n",
    "\n",
    "print(classification_report(y_test, nb_pred))\n",
    "print(\"Accuracy:\",metrics.accuracy_score(y_test, nb_pred))"
   ]
  },
  {
   "cell_type": "markdown",
   "metadata": {},
   "source": [
    "#### <u><b>Confussion Matriks</b></u>"
   ]
  },
  {
   "cell_type": "code",
   "execution_count": 146,
   "metadata": {},
   "outputs": [
    {
     "name": "stdout",
     "output_type": "stream",
     "text": [
      "[[10668   297]\n",
      " [  823   565]]\n",
      "\n",
      "[[10489   476]\n",
      " [  719   669]]\n",
      "\n",
      "[[10367   598]\n",
      " [  706   682]]\n",
      "\n",
      "[[10594   371]\n",
      " [  679   709]]\n",
      "\n",
      "[[10286   679]\n",
      " [  664   724]]\n",
      "\n",
      "[[9633 1332]\n",
      " [ 566  822]]\n"
     ]
    }
   ],
   "source": [
    "print(confusion_matrix(y_test, logreg_pred))\n",
    "print()\n",
    "\n",
    "print(confusion_matrix(y_test, knn_pred))\n",
    "print()\n",
    "\n",
    "print(confusion_matrix(y_test, svm_pred))\n",
    "print()\n",
    "\n",
    "print(confusion_matrix(y_test, randfor_pred))\n",
    "print()\n",
    "\n",
    "print(confusion_matrix(y_test, dtc_pred))\n",
    "print()\n",
    "\n",
    "print(confusion_matrix(y_test, nb_pred))"
   ]
  }
 ],
 "metadata": {
  "interpreter": {
   "hash": "b3ba2566441a7c06988d0923437866b63cedc61552a5af99d1f4fb67d367b25f"
  },
  "kernelspec": {
   "display_name": "Python 3.9.7 ('base')",
   "language": "python",
   "name": "python3"
  },
  "language_info": {
   "codemirror_mode": {
    "name": "ipython",
    "version": 3
   },
   "file_extension": ".py",
   "mimetype": "text/x-python",
   "name": "python",
   "nbconvert_exporter": "python",
   "pygments_lexer": "ipython3",
   "version": "3.9.7"
  },
  "orig_nbformat": 4
 },
 "nbformat": 4,
 "nbformat_minor": 2
}
